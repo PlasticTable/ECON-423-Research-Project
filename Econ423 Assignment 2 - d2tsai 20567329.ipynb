{
 "cells": [
  {
   "cell_type": "markdown",
   "metadata": {},
   "source": [
    "# ECON 423 Assignment 2"
   ]
  },
  {
   "cell_type": "markdown",
   "metadata": {},
   "source": [
    "Diana Tsai  \n",
    "20567329"
   ]
  },
  {
   "cell_type": "code",
   "execution_count": 126,
   "metadata": {},
   "outputs": [],
   "source": [
    "# Importing necessary packages\n",
    "import pandas as pd\n",
    "import numpy as np\n",
    "import random\n",
    "\n",
    "import seaborn as sns\n",
    "import scipy.stats as ss\n",
    "import pylab as pl\n",
    "from statsmodels.tsa.arima_model import ARMAResults\n",
    "import statsmodels.api as sm\n",
    "import statsmodels.graphics.tsaplots as tsa\n",
    "from statsmodels.graphics import utils\n",
    "from statsmodels.tsa.stattools import acf, pacf, acovf\n",
    "import statsmodels.formula.api as smf\n",
    "import statsmodels.tsa.api as smt\n",
    "from statsmodels.tsa.ar_model import AR\n",
    "\n",
    "import matplotlib.pyplot as plt\n",
    "import matplotlib as mpl"
   ]
  },
  {
   "cell_type": "markdown",
   "metadata": {},
   "source": [
    "## 4. ACF"
   ]
  },
  {
   "cell_type": "code",
   "execution_count": 203,
   "metadata": {
    "scrolled": true
   },
   "outputs": [],
   "source": [
    "# Simulate an ARMA(2, 1) model with phis=[0.8,-0.6] and thetas=[0.5]\n",
    "def plot_acfARMA(phi1, phi2, theta1):\n",
    "    max_lag = 20\n",
    "\n",
    "    n = int(1000) # lots of samples to help estimates\n",
    "\n",
    "    phis = np.array([phi1,phi2])\n",
    "    thetas = np.array([theta1])\n",
    "    ar = np.r_[1, -phis]\n",
    "    ma = np.r_[1, thetas]\n",
    "\n",
    "    arma21 = smt.arma_generate_sample(ar=ar, ma=ma, nsample=n)\n",
    "    arma_acfplt=(tsa.plot_acf(arma21,zero=False,title=\n",
    "    \"ACF Plot of ARMA(2,1) when theta=%s\" %(theta1), lags=max_lag))\n",
    "\n",
    "    mdl = smt.ARMA(arma21, order=(2, 1)).fit(method='mle', trend='nc')\n",
    "    print(mdl.summary())"
   ]
  },
  {
   "cell_type": "code",
   "execution_count": 204,
   "metadata": {},
   "outputs": [
    {
     "name": "stdout",
     "output_type": "stream",
     "text": [
      "                              ARMA Model Results                              \n",
      "==============================================================================\n",
      "Dep. Variable:                      y   No. Observations:                 1000\n",
      "Model:                     ARMA(2, 1)   Log Likelihood               -1411.287\n",
      "Method:                           mle   S.D. of innovations              0.991\n",
      "Date:                Thu, 08 Nov 2018   AIC                           2830.574\n",
      "Time:                        01:37:27   BIC                           2850.205\n",
      "Sample:                             0   HQIC                          2838.035\n",
      "                                                                              \n",
      "==============================================================================\n",
      "                 coef    std err          z      P>|z|      [0.025      0.975]\n",
      "------------------------------------------------------------------------------\n",
      "ar.L1.y        0.8047      0.033     24.742      0.000       0.741       0.868\n",
      "ar.L2.y       -0.5607      0.031    -18.312      0.000      -0.621      -0.501\n",
      "ma.L1.y        0.5423      0.035     15.325      0.000       0.473       0.612\n",
      "                                    Roots                                    \n",
      "=============================================================================\n",
      "                  Real          Imaginary           Modulus         Frequency\n",
      "-----------------------------------------------------------------------------\n",
      "AR.1            0.7175           -1.1263j            1.3354           -0.1597\n",
      "AR.2            0.7175           +1.1263j            1.3354            0.1597\n",
      "MA.1           -1.8439           +0.0000j            1.8439            0.5000\n",
      "-----------------------------------------------------------------------------\n"
     ]
    },
    {
     "data": {
      "image/png": "[encoded data removed]",
      "text/plain": [
       "<Figure size 432x288 with 1 Axes>"
      ]
     },
     "metadata": {},
     "output_type": "display_data"
    }
   ],
   "source": [
    "plot_acfARMA(0.8, -0.6, 0.5)"
   ]
  },
  {
   "cell_type": "code",
   "execution_count": 205,
   "metadata": {},
   "outputs": [
    {
     "name": "stdout",
     "output_type": "stream",
     "text": [
      "                              ARMA Model Results                              \n",
      "==============================================================================\n",
      "Dep. Variable:                      y   No. Observations:                 1000\n",
      "Model:                     ARMA(2, 1)   Log Likelihood               -1433.250\n",
      "Method:                           mle   S.D. of innovations              1.014\n",
      "Date:                Thu, 08 Nov 2018   AIC                           2874.500\n",
      "Time:                        01:37:38   BIC                           2894.131\n",
      "Sample:                             0   HQIC                          2881.961\n",
      "                                                                              \n",
      "==============================================================================\n",
      "                 coef    std err          z      P>|z|      [0.025      0.975]\n",
      "------------------------------------------------------------------------------\n",
      "ar.L1.y        0.8636      0.044     19.765      0.000       0.778       0.949\n",
      "ar.L2.y       -0.6295      0.030    -21.218      0.000      -0.688      -0.571\n",
      "ma.L1.y       -0.0898      0.058     -1.538      0.124      -0.204       0.025\n",
      "                                    Roots                                    \n",
      "=============================================================================\n",
      "                  Real          Imaginary           Modulus         Frequency\n",
      "-----------------------------------------------------------------------------\n",
      "AR.1            0.6859           -1.0574j            1.2604           -0.1584\n",
      "AR.2            0.6859           +1.0574j            1.2604            0.1584\n",
      "MA.1           11.1376           +0.0000j           11.1376            0.0000\n",
      "-----------------------------------------------------------------------------\n"
     ]
    },
    {
     "data": {
      "image/png": "[encoded data removed]",
      "text/plain": [
       "<Figure size 432x288 with 1 Axes>"
      ]
     },
     "metadata": {},
     "output_type": "display_data"
    }
   ],
   "source": [
    "plot_acfARMA(0.8, -0.6, 0)"
   ]
  },
  {
   "cell_type": "markdown",
   "metadata": {},
   "source": [
    "## 5. Investing in 2 Games"
   ]
  },
  {
   "cell_type": "markdown",
   "metadata": {},
   "source": [
    "### Part 1"
   ]
  },
  {
   "cell_type": "code",
   "execution_count": 228,
   "metadata": {},
   "outputs": [
    {
     "name": "stdout",
     "output_type": "stream",
     "text": [
      "---Game 1---\n",
      "Expected Return: 4.0\n",
      "Risk: 32.0\n",
      "\n",
      "---Game 2---\n",
      "Expected Return: 3.5\n",
      "Risk: 2.916666666666666\n"
     ]
    }
   ],
   "source": [
    "# Game 1\n",
    "expected_g1=(0.5*-2) + (0.5*10)\n",
    "var_g1=(0.5*(-2**2))+(0.5*(10**2))-(expected_g1**2)\n",
    "print(\"---Game 1---\")\n",
    "print(\"Expected Return: %s\" % (expected_g1))\n",
    "print(\"Risk: %s\" % (var_g1))\n",
    "\n",
    "# Game 2\n",
    "expected_g2=1/6*(sum([1,2,3,4,5,6]))\n",
    "var_g2=(1/6*(sum([1**1,2**2,3**2,4**2,5**2,6**2])))-(expected_g2**2)\n",
    "print(\"\")\n",
    "print(\"---Game 2---\")\n",
    "print(\"Expected Return: %s\" % (expected_g2))\n",
    "print(\"Risk: %s\" % (var_g2))"
   ]
  },
  {
   "cell_type": "code",
   "execution_count": 6,
   "metadata": {},
   "outputs": [
    {
     "data": {
      "text/plain": [
       "Text(0,0.5,'Return')"
      ]
     },
     "execution_count": 6,
     "metadata": {},
     "output_type": "execute_result"
    },
    {
     "data": {
      "image/png": "[encoded data removed]",
      "text/plain": [
       "<Figure size 432x288 with 1 Axes>"
      ]
     },
     "metadata": {},
     "output_type": "display_data"
    }
   ],
   "source": [
    "# Plot Risk-Return\n",
    "return_vector=[]\n",
    "risk_vector=[]\n",
    "weight_vector=[]\n",
    "\n",
    "# add in weights\n",
    "for i in range(1000):\n",
    "    w=random.uniform(0,1)\n",
    "    portfolio_return=w*expected_g1 + (1-w)*expected_g2\n",
    "    portfolio_variance=(w**2)*var_g1 + ((1-w)**2)*var_g2\n",
    "    \n",
    "    return_vector.append(portfolio_return)\n",
    "    risk_vector.append(portfolio_variance)\n",
    "    weight_vector.append(w)\n",
    "\n",
    "scplot = sns.scatterplot(x=risk_vector, y=return_vector)\n",
    "plt.title(\"Risk-Reward Plot\")\n",
    "plt.xlabel(\"Risk\")\n",
    "plt.ylabel(\"Return\")"
   ]
  },
  {
   "cell_type": "markdown",
   "metadata": {},
   "source": [
    "### Part 2"
   ]
  },
  {
   "cell_type": "markdown",
   "metadata": {},
   "source": [
    "#### Correlation = -0.2"
   ]
  },
  {
   "cell_type": "code",
   "execution_count": 7,
   "metadata": {},
   "outputs": [
    {
     "data": {
      "text/plain": [
       "Text(0,0.5,'Return')"
      ]
     },
     "execution_count": 7,
     "metadata": {},
     "output_type": "execute_result"
    },
    {
     "data": {
      "image/png": "[encoded data removed]",
      "text/plain": [
       "<Figure size 432x288 with 1 Axes>"
      ]
     },
     "metadata": {},
     "output_type": "display_data"
    }
   ],
   "source": [
    "# Covariance of Returns\n",
    "cov_returns1=(var_g1**(1/2))*(var_g2**(1/2))*-0.2\n",
    "# Expect no big difference between 0 correlation risk-reward\n",
    "cov_returns2=(var_g1**(1/2))*(var_g2**(1/2))*0.8\n",
    "# Expect risk-reward line to be straighter\n",
    "\n",
    "return_vector2=[]\n",
    "risk_vector2=[]\n",
    "weight_vector2=[]\n",
    "\n",
    "for w2 in range(1000):\n",
    "    w2=random.uniform(0,1)\n",
    "    portfolio_return1=w2*expected_g1 + (1-w2)*expected_g2\n",
    "    portfolio_variance1=(w2**2)*var_g1 +\n",
    "    ((1-w2)**2)*var_g2 + (2*w2*(1-w2)*cov_returns1)\n",
    "    \n",
    "    return_vector2.append(portfolio_return1)\n",
    "    risk_vector2.append(portfolio_variance1)\n",
    "    weight_vector2.append(w2)\n",
    "    \n",
    "scplot = sns.scatterplot(x=risk_vector2, y=return_vector2)\n",
    "plt.title(\"Risk-Reward Plot\")\n",
    "plt.xlabel(\"Risk\")\n",
    "plt.ylabel(\"Return\")"
   ]
  },
  {
   "cell_type": "markdown",
   "metadata": {},
   "source": [
    "#### Correlation = 0.8"
   ]
  },
  {
   "cell_type": "code",
   "execution_count": 8,
   "metadata": {},
   "outputs": [
    {
     "data": {
      "text/plain": [
       "Text(0,0.5,'Return')"
      ]
     },
     "execution_count": 8,
     "metadata": {},
     "output_type": "execute_result"
    },
    {
     "data": {
      "image/png": "[encoded data removed]",
      "text/plain": [
       "<Figure size 432x288 with 1 Axes>"
      ]
     },
     "metadata": {},
     "output_type": "display_data"
    }
   ],
   "source": [
    "return_vector3=[]\n",
    "risk_vector3=[]\n",
    "weight_vector3=[]\n",
    "\n",
    "for w3 in range(1000):\n",
    "    w3=random.uniform(0,1)\n",
    "    portfolio_return2=w3*expected_g1 + (1-w3)*expected_g2\n",
    "    portfolio_variance2=(w3**2)*var_g1 +\n",
    "    ((1-w3)**2)*var_g2 + (2*w3*(1-w3)*cov_returns2)\n",
    "    \n",
    "    return_vector3.append(portfolio_return2)\n",
    "    risk_vector3.append(portfolio_variance2)\n",
    "    weight_vector3.append(w3)\n",
    "    \n",
    "scplot = sns.scatterplot(x=risk_vector3, y=return_vector3)\n",
    "plt.title(\"Risk-Reward Plot\")\n",
    "plt.xlabel(\"Risk\")\n",
    "plt.ylabel(\"Return\")"
   ]
  },
  {
   "cell_type": "markdown",
   "metadata": {},
   "source": [
    "## 6. Simulation AR(1) Model"
   ]
  },
  {
   "cell_type": "markdown",
   "metadata": {},
   "source": [
    "### Part 1"
   ]
  },
  {
   "cell_type": "code",
   "execution_count": 9,
   "metadata": {},
   "outputs": [],
   "source": [
    "def simule(mu, sigma_sq, n):\n",
    "    # note that numpy.random.normal takes standard deviation rather than variance\n",
    "    diste = np.random.normal(mu, sigma_sq**(1/2), n)\n",
    "    return diste\n",
    "\n",
    "epsi = simule(0, 1, 1000)"
   ]
  },
  {
   "cell_type": "markdown",
   "metadata": {},
   "source": [
    "### Part 2"
   ]
  },
  {
   "cell_type": "code",
   "execution_count": 101,
   "metadata": {},
   "outputs": [],
   "source": [
    "def arma(phi1, theta1, n):\n",
    "    # set parameters\n",
    "    phis = np.array(phi1)\n",
    "    thetas = np.array(theta1)\n",
    "    \n",
    "    # create the AR and MA parts of ARMA\n",
    "    ar = np.r_[1, -phis]\n",
    "    ma = np.r_[1, thetas]\n",
    "\n",
    "    model = smt.arma_generate_sample(ar=ar, ma=ma, nsample=n)\n",
    "    return model\n",
    "\n",
    "ar1 = arma([0.88], [0], 1000)"
   ]
  },
  {
   "cell_type": "markdown",
   "metadata": {},
   "source": [
    "### Part 3"
   ]
  },
  {
   "cell_type": "code",
   "execution_count": 102,
   "metadata": {},
   "outputs": [
    {
     "name": "stdout",
     "output_type": "stream",
     "text": [
      "0.23834840934856344\n",
      "4.592875711391518\n",
      "[4.59287571 4.05854964 3.56823694 3.1394343  2.69748018 2.34457479]\n",
      "[1.         0.88366198 0.77690692 0.68354436 0.58731835 0.51048078]\n"
     ]
    }
   ],
   "source": [
    "ar1_mean = np.mean(ar1)\n",
    "ar1_var = np.var(ar1)\n",
    "ar1_autocorr = acovf(ar1)\n",
    "ar1_acf = acf(ar1)\n",
    "print(ar1_mean)\n",
    "print(ar1_var)\n",
    "print(ar1_autocorr[:6])\n",
    "print(ar1_acf[:6])"
   ]
  },
  {
   "cell_type": "markdown",
   "metadata": {},
   "source": [
    "Part 4 is written on paper."
   ]
  },
  {
   "cell_type": "markdown",
   "metadata": {},
   "source": [
    "## 7. MA(1) Model"
   ]
  },
  {
   "cell_type": "markdown",
   "metadata": {},
   "source": [
    "### Part 2"
   ]
  },
  {
   "cell_type": "code",
   "execution_count": 103,
   "metadata": {},
   "outputs": [],
   "source": [
    "ma1 = arma([0], [0.88], 1000)"
   ]
  },
  {
   "cell_type": "markdown",
   "metadata": {},
   "source": [
    "### Part 3"
   ]
  },
  {
   "cell_type": "code",
   "execution_count": 104,
   "metadata": {},
   "outputs": [
    {
     "name": "stdout",
     "output_type": "stream",
     "text": [
      "0.048165130939038334\n",
      "1.9521481817988273\n",
      "[ 1.95214818e+00  9.34299360e-01 -4.94672207e-02 -1.51044934e-03\n",
      " -1.45503472e-02  3.20629319e-03]\n",
      "[ 1.00000000e+00  4.78600635e-01 -2.53398903e-02 -7.73737033e-04\n",
      " -7.45350549e-03  1.64244355e-03]\n"
     ]
    }
   ],
   "source": [
    "ma1_mean = np.mean(ma1)\n",
    "ma1_var = np.var(ma1)\n",
    "ma1_autocorr = acovf(ma1)\n",
    "ma1_acf = acf(ma1)\n",
    "print(ma1_mean)\n",
    "print(ma1_var)\n",
    "print(ma1_autocorr[:6])\n",
    "print(ma1_acf[:6])"
   ]
  },
  {
   "cell_type": "markdown",
   "metadata": {},
   "source": [
    "Part 4 is written on paper."
   ]
  },
  {
   "cell_type": "markdown",
   "metadata": {},
   "source": [
    "## 8. Apply AR to Real Life Data"
   ]
  },
  {
   "cell_type": "markdown",
   "metadata": {},
   "source": [
    "### Part 1 and Part 2"
   ]
  },
  {
   "cell_type": "code",
   "execution_count": 14,
   "metadata": {},
   "outputs": [],
   "source": [
    "# Import .csv files\n",
    "# Coke\n",
    "coke = pd.read_csv(\"C:/Users/Diana/Documents/University of Waterloo/\" + \\\n",
    "                   \"4th Year/ECON 423/COKE.csv\")"
   ]
  },
  {
   "cell_type": "code",
   "execution_count": 172,
   "metadata": {},
   "outputs": [],
   "source": [
    "coke[\"Return\"] = 100*(np.log(coke[\"Adj Close\"]) - \\\n",
    "                        np.log(coke[\"Adj Close\"].shift(1)))\n",
    "coke = coke.iloc[1:]\n",
    "coke_train=coke[\"Return\"][:-5]\n",
    "coke_test=coke[\"Return\"][-5:]"
   ]
  },
  {
   "cell_type": "code",
   "execution_count": 185,
   "metadata": {},
   "outputs": [
    {
     "name": "stdout",
     "output_type": "stream",
     "text": [
      "                              ARMA Model Results                              \n",
      "==============================================================================\n",
      "Dep. Variable:                 Return   No. Observations:                 4520\n",
      "Model:                     ARMA(1, 0)   Log Likelihood               -9378.942\n",
      "Method:                       css-mle   S.D. of innovations              1.927\n",
      "Date:                Thu, 08 Nov 2018   AIC                          18763.885\n",
      "Time:                        01:20:39   BIC                          18783.134\n",
      "Sample:                             0   HQIC                         18770.666\n",
      "                                                                              \n",
      "================================================================================\n",
      "                   coef    std err          z      P>|z|      [0.025      0.975]\n",
      "--------------------------------------------------------------------------------\n",
      "const            0.0395      0.027      1.480      0.139      -0.013       0.092\n",
      "ar.L1.Return    -0.0730      0.015     -4.918      0.000      -0.102      -0.044\n",
      "                                    Roots                                    \n",
      "=============================================================================\n",
      "                  Real          Imaginary           Modulus         Frequency\n",
      "-----------------------------------------------------------------------------\n",
      "AR.1          -13.7063           +0.0000j           13.7063            0.5000\n",
      "-----------------------------------------------------------------------------\n",
      "Mean: -3.062781672093646e-05\n",
      "Variance: 3.7139551770732315\n",
      "Skewness: -0.10446423824947189\n",
      "Kurtosis: 7.363637579571815\n"
     ]
    }
   ],
   "source": [
    "# AR(1)\n",
    "model1 = smt.ARMA(coke_train, order=(1,0))\n",
    "model_fit1 = model1.fit(disp=0)\n",
    "print(model_fit1.summary())\n",
    "\n",
    "ar1_mean2=np.mean(model_fit1.resid)\n",
    "ar1_var2=np.var(model_fit1.resid)\n",
    "ar1_skew2=ss.skew(model_fit1.resid)\n",
    "ar1_kurt2=ss.kurtosis(model_fit1.resid)\n",
    "print(\"Mean: %s\" %(ar1_mean2))\n",
    "print(\"Variance: %s\" %(ar1_var2))\n",
    "print(\"Skewness: %s\" %(ar1_skew2))\n",
    "print(\"Kurtosis: %s\" %(ar1_kurt2))"
   ]
  },
  {
   "cell_type": "code",
   "execution_count": 186,
   "metadata": {},
   "outputs": [
    {
     "name": "stdout",
     "output_type": "stream",
     "text": [
      "                              ARMA Model Results                              \n",
      "==============================================================================\n",
      "Dep. Variable:                 Return   No. Observations:                 4520\n",
      "Model:                     ARMA(2, 0)   Log Likelihood               -9376.641\n",
      "Method:                       css-mle   S.D. of innovations              1.926\n",
      "Date:                Thu, 08 Nov 2018   AIC                          18761.282\n",
      "Time:                        01:21:26   BIC                          18786.947\n",
      "Sample:                             0   HQIC                         18770.323\n",
      "                                                                              \n",
      "================================================================================\n",
      "                   coef    std err          z      P>|z|      [0.025      0.975]\n",
      "--------------------------------------------------------------------------------\n",
      "const            0.0395      0.026      1.528      0.127      -0.011       0.090\n",
      "ar.L1.Return    -0.0753      0.015     -5.064      0.000      -0.104      -0.046\n",
      "ar.L2.Return    -0.0319      0.015     -2.146      0.032      -0.061      -0.003\n",
      "                                    Roots                                    \n",
      "=============================================================================\n",
      "                  Real          Imaginary           Modulus         Frequency\n",
      "-----------------------------------------------------------------------------\n",
      "AR.1           -1.1800           -5.4730j            5.5988           -0.2838\n",
      "AR.2           -1.1800           +5.4730j            5.5988            0.2838\n",
      "-----------------------------------------------------------------------------\n",
      "Mean: -4.509133005259804e-05\n",
      "Variance: 3.7101739412113885\n",
      "Skewness: -0.11119545450390389\n",
      "Kurtosis: 7.275027437593446\n"
     ]
    }
   ],
   "source": [
    "# AR(2)\n",
    "model2 = smt.ARMA(coke_train, order=(2,0))\n",
    "model_fit2 = model2.fit(disp=0)\n",
    "print(model_fit2.summary())\n",
    "\n",
    "ar2_mean=np.mean(model_fit2.resid)\n",
    "ar2_var=np.var(model_fit2.resid)\n",
    "ar2_skew=ss.skew(model_fit2.resid)\n",
    "ar2_kurt=ss.kurtosis(model_fit2.resid)\n",
    "print(\"Mean: %s\" %(ar2_mean))\n",
    "print(\"Variance: %s\" %(ar2_var))\n",
    "print(\"Skewness: %s\" %(ar2_skew))\n",
    "print(\"Kurtosis: %s\" %(ar2_kurt))"
   ]
  },
  {
   "cell_type": "code",
   "execution_count": 187,
   "metadata": {},
   "outputs": [
    {
     "name": "stdout",
     "output_type": "stream",
     "text": [
      "                              ARMA Model Results                              \n",
      "==============================================================================\n",
      "Dep. Variable:                 Return   No. Observations:                 4520\n",
      "Model:                     ARMA(3, 0)   Log Likelihood               -9376.178\n",
      "Method:                       css-mle   S.D. of innovations              1.926\n",
      "Date:                Thu, 08 Nov 2018   AIC                          18762.356\n",
      "Time:                        01:21:37   BIC                          18794.437\n",
      "Sample:                             0   HQIC                         18773.658\n",
      "                                                                              \n",
      "================================================================================\n",
      "                   coef    std err          z      P>|z|      [0.025      0.975]\n",
      "--------------------------------------------------------------------------------\n",
      "const            0.0395      0.026      1.506      0.132      -0.012       0.091\n",
      "ar.L1.Return    -0.0748      0.015     -5.032      0.000      -0.104      -0.046\n",
      "ar.L2.Return    -0.0308      0.015     -2.068      0.039      -0.060      -0.002\n",
      "ar.L3.Return     0.0143      0.015      0.962      0.336      -0.015       0.043\n",
      "                                    Roots                                    \n",
      "=============================================================================\n",
      "                  Real          Imaginary           Modulus         Frequency\n",
      "-----------------------------------------------------------------------------\n",
      "AR.1           -1.6520           -3.1742j            3.5784           -0.3264\n",
      "AR.2           -1.6520           +3.1742j            3.5784            0.3264\n",
      "AR.3            5.4585           -0.0000j            5.4585           -0.0000\n",
      "-----------------------------------------------------------------------------\n",
      "Mean: -4.4009078983766296e-05\n",
      "Variance: 3.70941412255964\n",
      "Skewness: -0.10800367494710363\n",
      "Kurtosis: 7.289466410015509\n"
     ]
    }
   ],
   "source": [
    "# AR(3)\n",
    "model3 = smt.ARMA(coke_train, order=(3,0))\n",
    "model_fit3 = model3.fit(disp=0)\n",
    "print(model_fit3.summary())\n",
    "\n",
    "ar3_mean=np.mean(model_fit3.resid)\n",
    "ar3_var=np.var(model_fit3.resid)\n",
    "ar3_skew=ss.skew(model_fit3.resid)\n",
    "ar3_kurt=ss.kurtosis(model_fit3.resid)\n",
    "print(\"Mean: %s\" %(ar3_mean))\n",
    "print(\"Variance: %s\" %(ar3_var))\n",
    "print(\"Skewness: %s\" %(ar3_skew))\n",
    "print(\"Kurtosis: %s\" %(ar3_kurt))"
   ]
  },
  {
   "cell_type": "code",
   "execution_count": 188,
   "metadata": {},
   "outputs": [
    {
     "name": "stdout",
     "output_type": "stream",
     "text": [
      "                              ARMA Model Results                              \n",
      "==============================================================================\n",
      "Dep. Variable:                 Return   No. Observations:                 4520\n",
      "Model:                     ARMA(4, 0)   Log Likelihood               -9375.531\n",
      "Method:                       css-mle   S.D. of innovations              1.926\n",
      "Date:                Thu, 08 Nov 2018   AIC                          18763.061\n",
      "Time:                        01:21:45   BIC                          18801.559\n",
      "Sample:                             0   HQIC                         18776.623\n",
      "                                                                              \n",
      "================================================================================\n",
      "                   coef    std err          z      P>|z|      [0.025      0.975]\n",
      "--------------------------------------------------------------------------------\n",
      "const            0.0395      0.027      1.481      0.139      -0.013       0.092\n",
      "ar.L1.Return    -0.0751      0.015     -5.048      0.000      -0.104      -0.046\n",
      "ar.L2.Return    -0.0303      0.015     -2.033      0.042      -0.060      -0.001\n",
      "ar.L3.Return     0.0156      0.015      1.044      0.296      -0.014       0.045\n",
      "ar.L4.Return     0.0169      0.015      1.138      0.255      -0.012       0.046\n",
      "                                    Roots                                    \n",
      "=============================================================================\n",
      "                  Real          Imaginary           Modulus         Frequency\n",
      "-----------------------------------------------------------------------------\n",
      "AR.1            2.8400           -0.0000j            2.8400           -0.0000\n",
      "AR.2           -0.3443           -2.5798j            2.6026           -0.2711\n",
      "AR.3           -0.3443           +2.5798j            2.6026            0.2711\n",
      "AR.4           -3.0718           -0.0000j            3.0718           -0.5000\n",
      "-----------------------------------------------------------------------------\n",
      "Mean: -3.929694495022566e-05\n",
      "Variance: 3.7083510805139315\n",
      "Skewness: -0.10883643158534516\n",
      "Kurtosis: 7.304488593101235\n"
     ]
    }
   ],
   "source": [
    "# AR(4)\n",
    "model4 = smt.ARMA(coke_train, order=(4,0))\n",
    "model_fit4 = model4.fit(disp=0)\n",
    "print(model_fit4.summary())\n",
    "\n",
    "ar4_mean=np.mean(model_fit4.resid)\n",
    "ar4_var=np.var(model_fit4.resid)\n",
    "ar4_skew=ss.skew(model_fit4.resid)\n",
    "ar4_kurt=ss.kurtosis(model_fit4.resid)\n",
    "print(\"Mean: %s\" %(ar4_mean))\n",
    "print(\"Variance: %s\" %(ar4_var))\n",
    "print(\"Skewness: %s\" %(ar4_skew))\n",
    "print(\"Kurtosis: %s\" %(ar4_kurt))"
   ]
  },
  {
   "cell_type": "code",
   "execution_count": 189,
   "metadata": {},
   "outputs": [
    {
     "name": "stdout",
     "output_type": "stream",
     "text": [
      "                              ARMA Model Results                              \n",
      "==============================================================================\n",
      "Dep. Variable:                 Return   No. Observations:                 4520\n",
      "Model:                     ARMA(5, 0)   Log Likelihood               -9373.647\n",
      "Method:                       css-mle   S.D. of innovations              1.925\n",
      "Date:                Thu, 08 Nov 2018   AIC                          18761.293\n",
      "Time:                        01:21:56   BIC                          18806.207\n",
      "Sample:                             0   HQIC                         18777.116\n",
      "                                                                              \n",
      "================================================================================\n",
      "                   coef    std err          z      P>|z|      [0.025      0.975]\n",
      "--------------------------------------------------------------------------------\n",
      "const            0.0395      0.026      1.524      0.128      -0.011       0.090\n",
      "ar.L1.Return    -0.0746      0.015     -5.017      0.000      -0.104      -0.045\n",
      "ar.L2.Return    -0.0299      0.015     -2.003      0.045      -0.059      -0.001\n",
      "ar.L3.Return     0.0147      0.015      0.987      0.324      -0.015       0.044\n",
      "ar.L4.Return     0.0148      0.015      0.990      0.322      -0.014       0.044\n",
      "ar.L5.Return    -0.0289      0.015     -1.942      0.052      -0.058       0.000\n",
      "                                    Roots                                    \n",
      "=============================================================================\n",
      "                  Real          Imaginary           Modulus         Frequency\n",
      "-----------------------------------------------------------------------------\n",
      "AR.1           -1.9710           -0.0000j            1.9710           -0.5000\n",
      "AR.2           -0.5659           -1.8174j            1.9034           -0.2980\n",
      "AR.3           -0.5659           +1.8174j            1.9034            0.2980\n",
      "AR.4            1.8070           -1.2589j            2.2023           -0.0968\n",
      "AR.5            1.8070           +1.2589j            2.2023            0.0968\n",
      "-----------------------------------------------------------------------------\n",
      "Mean: -5.229676810785771e-05\n",
      "Variance: 3.705259052302649\n",
      "Skewness: -0.11232484322861673\n",
      "Kurtosis: 7.241982637064831\n"
     ]
    }
   ],
   "source": [
    "# AR(5)\n",
    "model5 = smt.ARMA(coke_train, order=(5,0))\n",
    "model_fit5 = model5.fit(disp=0)\n",
    "print(model_fit5.summary())\n",
    "\n",
    "ar5_mean=np.mean(model_fit5.resid)\n",
    "ar5_var=np.var(model_fit5.resid)\n",
    "ar5_skew=ss.skew(model_fit5.resid)\n",
    "ar5_kurt=ss.kurtosis(model_fit5.resid)\n",
    "print(\"Mean: %s\" %(ar5_mean))\n",
    "print(\"Variance: %s\" %(ar5_var))\n",
    "print(\"Skewness: %s\" %(ar5_skew))\n",
    "print(\"Kurtosis: %s\" %(ar5_kurt))"
   ]
  },
  {
   "cell_type": "code",
   "execution_count": 202,
   "metadata": {},
   "outputs": [
    {
     "name": "stdout",
     "output_type": "stream",
     "text": [
      "Models    ||  AR(1)   |  AR(2)  |  AR(3)  |  AR(4)  | AR(5)\n",
      "=============================================================\n",
      "Mean      || -0.0000  | -0.0000 | -0.0000 | -0.0000 | -0.0001\n",
      "Variance  || 3.7140   | 3.7102  | 3.7094  | 3.7084  | 3.7053\n",
      "Skewness  || -0.1045  | -0.1112 | -0.1080 | -0.1088 | -0.1123\n",
      "Kurtosis  || 7.3636   | 7.2750  | 7.2895  | 7.3045  | 7.2420\n"
     ]
    }
   ],
   "source": [
    "print(\"Models    ||  AR(1)   |  AR(2)  |  AR(3)  |  AR(4)  | AR(5)\")\n",
    "print(\"=============================================================\")\n",
    "print(\"Mean      || %.4f  | %.4f | %.4f | %.4f | %.4f\" %(ar1_mean2, ar2_mean, ar3_mean, ar4_mean, ar5_mean))\n",
    "print(\"Variance  || %.4f   | %.4f  | %.4f  | %.4f  | %.4f\" %(ar1_var2, ar2_var, ar3_var, ar4_var, ar5_var))\n",
    "print(\"Skewness  || %.4f  | %.4f | %.4f | %.4f | %.4f\" %(ar1_skew2, ar2_skew, ar3_skew, ar4_skew, ar5_skew))\n",
    "print(\"Kurtosis  || %.4f   | %.4f  | %.4f  | %.4f  | %.4f\" %(ar1_kurt2, ar2_kurt, ar3_kurt, ar4_kurt, ar5_kurt))"
   ]
  },
  {
   "cell_type": "markdown",
   "metadata": {},
   "source": [
    "AR(5) because it's mean is the same as the other ones, variance is high but lower than the other AR processes, skewness is not the highest and the kurtosis is closer to 3. "
   ]
  },
  {
   "cell_type": "markdown",
   "metadata": {},
   "source": [
    "### Part 3"
   ]
  },
  {
   "cell_type": "code",
   "execution_count": 226,
   "metadata": {},
   "outputs": [
    {
     "name": "stdout",
     "output_type": "stream",
     "text": [
      "AR(1) forecast\n",
      "4523   -0.006259\n",
      "4524    0.042877\n",
      "4525    0.039292\n",
      "4526    0.039553\n",
      "4527    0.039534\n",
      "dtype: float64\n",
      "AR(2) forecast\n",
      "4523   -0.009749\n",
      "4524    0.023232\n",
      "4525    0.042345\n",
      "4526    0.039854\n",
      "4527    0.039432\n",
      "dtype: float64\n",
      "AR(3) forecast\n",
      "4523   -0.024496\n",
      "4524    0.025901\n",
      "4525    0.051517\n",
      "4526    0.038150\n",
      "4527    0.039082\n",
      "dtype: float64\n",
      "AR(4) forecast\n",
      "4523   -0.039987\n",
      "4524    0.009618\n",
      "4525    0.055045\n",
      "4526    0.048659\n",
      "4527    0.036567\n",
      "dtype: float64\n",
      "AR(5) forecast\n",
      "4523   -0.160798\n",
      "4524    0.045027\n",
      "4525    0.085749\n",
      "4526    0.040389\n",
      "4527    0.017085\n",
      "dtype: float64\n",
      "Actual\n",
      "4523   -0.937156\n",
      "4524   -1.502422\n",
      "4525    0.392528\n",
      "4526   -1.232973\n",
      "4527   -0.726706\n",
      "Name: Return, dtype: float64\n"
     ]
    }
   ],
   "source": [
    "# Static\n",
    "N = len(coke_train)\n",
    "print(\"AR(1) forecast\")\n",
    "print(model_fit1.predict(N, N+4))\n",
    "print(\"AR(2) forecast\")\n",
    "print(model_fit2.predict(N, N+4))\n",
    "print(\"AR(3) forecast\")\n",
    "print(model_fit3.predict(N, N+4))\n",
    "print(\"AR(4) forecast\")\n",
    "print(model_fit4.predict(N, N+4))\n",
    "print(\"AR(5) forecast\")\n",
    "print(model_fit5.predict(N, N+4))\n",
    "print(\"Actual\")\n",
    "print(coke_test)"
   ]
  }
 ],
 "metadata": {
  "kernelspec": {
   "display_name": "Python 3",
   "language": "python",
   "name": "python3"
  },
  "language_info": {
   "codemirror_mode": {
    "name": "ipython",
    "version": 3
   },
   "file_extension": ".py",
   "mimetype": "text/x-python",
   "name": "python",
   "nbconvert_exporter": "python",
   "pygments_lexer": "ipython3",
   "version": "3.6.5"
  }
 },
 "nbformat": 4,
 "nbformat_minor": 2
}
